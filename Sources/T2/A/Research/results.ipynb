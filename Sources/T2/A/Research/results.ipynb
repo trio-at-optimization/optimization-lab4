{
 "cells": [
  {
   "cell_type": "code",
   "execution_count": 1,
   "metadata": {
    "ExecuteTime": {
     "end_time": "2023-06-08T09:28:08.994990500Z",
     "start_time": "2023-06-08T09:28:05.880651300Z"
    }
   },
   "outputs": [],
   "source": [
    "import sys\n",
    "sys.path.append('../../../')\n",
    "import helper\n",
    "\n",
    "import numpy as np\n",
    "import matplotlib.pyplot as plt"
   ]
  },
  {
   "cell_type": "code",
   "execution_count": 2,
   "metadata": {},
   "outputs": [],
   "source": [
    "results = helper.get_filenames_results()\n",
    "for key in results:\n",
    "    print(str(key) + ': ' + str(helper.get_params_results(key)))"
   ]
  },
  {
   "cell_type": "code",
   "execution_count": 3,
   "metadata": {},
   "outputs": [],
   "source": [
    "def parse_and_print_few(list_names, metrics = helper.metric_to_columns, axis=0):\n",
    "    results_list = []\n",
    "    labels_list = []\n",
    "\n",
    "    for name in list_names:\n",
    "        results_list.append(helper.get_and_parse_result(name))\n",
    "        labels_list.append(helper.get_params_results(name)['method'] + ' ' + name)\n",
    "\n",
    "    print(results_list)\n",
    "\n",
    "    for metric_name in metrics: \n",
    "        helper.print_results(results_list, labels_list, metric_name, axis=axis)"
   ]
  }
 ],
 "metadata": {
  "kernelspec": {
   "display_name": "Python 3",
   "language": "python",
   "name": "python3"
  },
  "language_info": {
   "codemirror_mode": {
    "name": "ipython",
    "version": 3
   },
   "file_extension": ".py",
   "mimetype": "text/x-python",
   "name": "python",
   "nbconvert_exporter": "python",
   "pygments_lexer": "ipython3",
   "version": "3.9.0"
  },
  "orig_nbformat": 4
 },
 "nbformat": 4,
 "nbformat_minor": 2
}
