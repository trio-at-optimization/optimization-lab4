{
 "cells": [
  {
   "cell_type": "code",
   "execution_count": 7,
   "metadata": {},
   "outputs": [],
   "source": [
    "import sys\n",
    "sys.path.append('../../../')\n",
    "import helper\n",
    "\n",
    "import numpy as np\n",
    "import matplotlib.pyplot as plt"
   ]
  },
  {
   "cell_type": "code",
   "execution_count": 8,
   "metadata": {},
   "outputs": [
    {
     "name": "stdout",
     "output_type": "stream",
     "text": [
      "X_10_ADAM: {'dataset_name': '1', 'method': 'adam', 'init_dist_x': 10, 'init_dist_y': 0, 'init_density_x': 101, 'init_density_y': 1}\n",
      "X_10_DL: {'dataset_name': '1', 'method': 'dog-leg', 'init_dist_x': 10, 'init_dist_y': 0, 'init_density_x': 101, 'init_density_y': 1}\n",
      "X_10_GN: {'dataset_name': '1', 'method': 'gauss-newton', 'init_dist_x': 10, 'init_dist_y': 0, 'init_density_x': 101, 'init_density_y': 1}\n",
      "X_10_L-BFGS: {'dataset_name': '1', 'method': 'l-bfgs', 'init_dist_x': 10, 'init_dist_y': 0, 'init_density_x': 101, 'init_density_y': 1}\n"
     ]
    }
   ],
   "source": [
    "results = helper.get_filenames_results()\n",
    "for key in results:\n",
    "    print(str(key) + ': ' + str(helper.get_params_results(key)))"
   ]
  },
  {
   "cell_type": "code",
   "execution_count": 9,
   "metadata": {},
   "outputs": [
    {
     "ename": "FileNotFoundError",
     "evalue": "[Errno 2] No such file or directory: 'Results/X_10_SCIPY-L-BFGS/params.json'",
     "output_type": "error",
     "traceback": [
      "\u001b[1;31m---------------------------------------------------------------------------\u001b[0m",
      "\u001b[1;31mFileNotFoundError\u001b[0m                         Traceback (most recent call last)",
      "Cell \u001b[1;32mIn[9], line 1\u001b[0m\n\u001b[1;32m----> 1\u001b[0m helper\u001b[39m.\u001b[39;49mparse_and_print_few([\u001b[39m'\u001b[39;49m\u001b[39mX_10_SCIPY-L-BFGS\u001b[39;49m\u001b[39m'\u001b[39;49m, \u001b[39m'\u001b[39;49m\u001b[39mX_10_SCIPY-SCIPY-L-BFGS-BOUNDS\u001b[39;49m\u001b[39m'\u001b[39;49m], use_dataset_name\u001b[39m=\u001b[39;49m\u001b[39mTrue\u001b[39;49;00m)\n",
      "File \u001b[1;32mc:\\Users\\veren\\OneDrive\\Рабочий стол\\GitRepo\\LAB4\\Sources\\T2\\A\\Research\\../../..\\helper\\package_dataset\\module_parse.py:99\u001b[0m, in \u001b[0;36mparse_and_print_few\u001b[1;34m(list_names, metrics, axis, is_print, use_dataset_name, with_top_decile_approach)\u001b[0m\n\u001b[0;32m     96\u001b[0m labels_list \u001b[39m=\u001b[39m []\n\u001b[0;32m     98\u001b[0m \u001b[39mfor\u001b[39;00m name \u001b[39min\u001b[39;00m list_names:\n\u001b[1;32m---> 99\u001b[0m     results_list\u001b[39m.\u001b[39mappend(get_and_parse_result(name))\n\u001b[0;32m    100\u001b[0m     \u001b[39mif\u001b[39;00m use_dataset_name:\n\u001b[0;32m    101\u001b[0m         labels_list\u001b[39m.\u001b[39mappend(get_params_results(name)[\u001b[39m'\u001b[39m\u001b[39mmethod\u001b[39m\u001b[39m'\u001b[39m] \u001b[39m+\u001b[39m \u001b[39m'\u001b[39m\u001b[39m \u001b[39m\u001b[39m'\u001b[39m \u001b[39m+\u001b[39m name)\n",
      "File \u001b[1;32mc:\\Users\\veren\\OneDrive\\Рабочий стол\\GitRepo\\LAB4\\Sources\\T2\\A\\Research\\../../..\\helper\\package_dataset\\module_parse.py:11\u001b[0m, in \u001b[0;36mget_and_parse_result\u001b[1;34m(name)\u001b[0m\n\u001b[0;32m     10\u001b[0m \u001b[39mdef\u001b[39;00m \u001b[39mget_and_parse_result\u001b[39m(name):\n\u001b[1;32m---> 11\u001b[0m     params_result \u001b[39m=\u001b[39m get_params_results(name)\n\u001b[0;32m     12\u001b[0m     params_dataset \u001b[39m=\u001b[39m get_params_dataset(params_result[\u001b[39m'\u001b[39m\u001b[39mdataset_name\u001b[39m\u001b[39m'\u001b[39m])\n\u001b[0;32m     13\u001b[0m     dataset_filename \u001b[39m=\u001b[39m get_filenames_datasets()[params_result[\u001b[39m'\u001b[39m\u001b[39mdataset_name\u001b[39m\u001b[39m'\u001b[39m]]\n",
      "File \u001b[1;32mc:\\Users\\veren\\OneDrive\\Рабочий стол\\GitRepo\\LAB4\\Sources\\T2\\A\\Research\\../../..\\helper\\package_dataset\\module_save_load.py:124\u001b[0m, in \u001b[0;36mget_params_results\u001b[1;34m(name, path)\u001b[0m\n\u001b[0;32m    123\u001b[0m \u001b[39mdef\u001b[39;00m \u001b[39mget_params_results\u001b[39m(name, path\u001b[39m=\u001b[39m\u001b[39m'\u001b[39m\u001b[39m'\u001b[39m):\n\u001b[1;32m--> 124\u001b[0m     \u001b[39mreturn\u001b[39;00m get_params(Results_folder_name, name, path)\n",
      "File \u001b[1;32mc:\\Users\\veren\\OneDrive\\Рабочий стол\\GitRepo\\LAB4\\Sources\\T2\\A\\Research\\../../..\\helper\\package_dataset\\module_save_load.py:113\u001b[0m, in \u001b[0;36mget_params\u001b[1;34m(folder_path, name, path)\u001b[0m\n\u001b[0;32m    110\u001b[0m \u001b[39mdef\u001b[39;00m \u001b[39mget_params\u001b[39m(folder_path, name, path):\n\u001b[0;32m    111\u001b[0m     file_path \u001b[39m=\u001b[39m path \u001b[39m+\u001b[39m folder_path \u001b[39m+\u001b[39m \u001b[39m\"\u001b[39m\u001b[39m/\u001b[39m\u001b[39m\"\u001b[39m \u001b[39m+\u001b[39m name \u001b[39m+\u001b[39m \u001b[39m\"\u001b[39m\u001b[39m/\u001b[39m\u001b[39m\"\u001b[39m \u001b[39m+\u001b[39m Params_file_name\n\u001b[1;32m--> 113\u001b[0m     \u001b[39mwith\u001b[39;00m \u001b[39mopen\u001b[39m(file_path, \u001b[39m\"\u001b[39m\u001b[39mr\u001b[39m\u001b[39m\"\u001b[39m) \u001b[39mas\u001b[39;00m json_file:\n\u001b[0;32m    114\u001b[0m         parameters \u001b[39m=\u001b[39m json\u001b[39m.\u001b[39mload(json_file)\n\u001b[0;32m    116\u001b[0m     \u001b[39mreturn\u001b[39;00m parameters\n",
      "\u001b[1;31mFileNotFoundError\u001b[0m: [Errno 2] No such file or directory: 'Results/X_10_SCIPY-L-BFGS/params.json'"
     ]
    }
   ],
   "source": [
    "helper.parse_and_print_few(['X_10_SCIPY-L-BFGS', 'X_10_SCIPY-SCIPY-L-BFGS-BOUNDS'], use_dataset_name=True)"
   ]
  }
 ],
 "metadata": {
  "kernelspec": {
   "display_name": "Python 3",
   "language": "python",
   "name": "python3"
  },
  "language_info": {
   "codemirror_mode": {
    "name": "ipython",
    "version": 3
   },
   "file_extension": ".py",
   "mimetype": "text/x-python",
   "name": "python",
   "nbconvert_exporter": "python",
   "pygments_lexer": "ipython3",
   "version": "3.11.3"
  },
  "orig_nbformat": 4
 },
 "nbformat": 4,
 "nbformat_minor": 2
}
