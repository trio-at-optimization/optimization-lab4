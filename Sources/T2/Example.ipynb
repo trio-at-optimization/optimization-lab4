{
 "cells": [
  {
   "cell_type": "code",
   "execution_count": 1,
   "metadata": {},
   "outputs": [
    {
     "name": "stderr",
     "output_type": "stream",
     "text": [
      "c:\\Users\\My\\AppData\\Local\\Programs\\Python\\Python39\\lib\\site-packages\\scipy\\optimize\\_minimize.py:584: FutureWarning: elementwise comparison failed; returning scalar instead, but in the future will perform elementwise comparison\n",
      "  elif (jac in FD_METHODS and\n"
     ]
    },
    {
     "ename": "ValueError",
     "evalue": "The truth value of an array with more than one element is ambiguous. Use a.any() or a.all()",
     "output_type": "error",
     "traceback": [
      "\u001b[1;31m---------------------------------------------------------------------------\u001b[0m",
      "\u001b[1;31mValueError\u001b[0m                                Traceback (most recent call last)",
      "Cell \u001b[1;32mIn[1], line 23\u001b[0m\n\u001b[0;32m     20\u001b[0m grad \u001b[39m=\u001b[39m x\u001b[39m.\u001b[39mgrad\u001b[39m.\u001b[39mnumpy()\n\u001b[0;32m     22\u001b[0m \u001b[39m# Use SciPy to minimize objective function with gradient\u001b[39;00m\n\u001b[1;32m---> 23\u001b[0m res \u001b[39m=\u001b[39m minimize(objective, x0, method\u001b[39m=\u001b[39;49m\u001b[39m'\u001b[39;49m\u001b[39mL-BFGS-B\u001b[39;49m\u001b[39m'\u001b[39;49m, jac\u001b[39m=\u001b[39;49mgrad, bounds\u001b[39m=\u001b[39;49mbounds)\n\u001b[0;32m     24\u001b[0m \u001b[39mprint\u001b[39m(res)\n\u001b[0;32m     26\u001b[0m \u001b[39m# Use SciPy least_squares to minimize objective function with gradient\u001b[39;00m\n",
      "File \u001b[1;32mc:\\Users\\My\\AppData\\Local\\Programs\\Python\\Python39\\lib\\site-packages\\scipy\\optimize\\_minimize.py:591\u001b[0m, in \u001b[0;36mminimize\u001b[1;34m(fun, x0, args, method, jac, hess, hessp, bounds, constraints, tol, callback, options)\u001b[0m\n\u001b[0;32m    588\u001b[0m \u001b[39melif\u001b[39;00m meth \u001b[39min\u001b[39;00m [\u001b[39m'\u001b[39m\u001b[39mtrust-constr\u001b[39m\u001b[39m'\u001b[39m]:\n\u001b[0;32m    589\u001b[0m     \u001b[39m# default jac calculation for this method\u001b[39;00m\n\u001b[0;32m    590\u001b[0m     jac \u001b[39m=\u001b[39m \u001b[39m'\u001b[39m\u001b[39m2-point\u001b[39m\u001b[39m'\u001b[39m\n\u001b[1;32m--> 591\u001b[0m \u001b[39melif\u001b[39;00m jac \u001b[39mis\u001b[39;00m \u001b[39mNone\u001b[39;00m \u001b[39mor\u001b[39;00m \u001b[39mbool\u001b[39;49m(jac) \u001b[39mis\u001b[39;00m \u001b[39mFalse\u001b[39;00m:\n\u001b[0;32m    592\u001b[0m     \u001b[39m# this will cause e.g. LBFGS to use forward difference, absolute step\u001b[39;00m\n\u001b[0;32m    593\u001b[0m     jac \u001b[39m=\u001b[39m \u001b[39mNone\u001b[39;00m\n\u001b[0;32m    594\u001b[0m \u001b[39melse\u001b[39;00m:\n\u001b[0;32m    595\u001b[0m     \u001b[39m# default if jac option is not understood\u001b[39;00m\n",
      "\u001b[1;31mValueError\u001b[0m: The truth value of an array with more than one element is ambiguous. Use a.any() or a.all()"
     ]
    }
   ],
   "source": [
    "import torch\n",
    "import numpy as np\n",
    "from scipy.optimize import minimize\n",
    "from scipy.optimize import least_squares\n",
    "\n",
    "# Define objective function\n",
    "def objective(x):\n",
    "    return x[0]**2 + x[1]**2\n",
    "\n",
    "# Define starting point\n",
    "x0 = np.array([1.0, 1.0])\n",
    "\n",
    "# Define bounds\n",
    "bounds = ((-10.0, 10.0), (-10.0, 10.0))\n",
    "\n",
    "# Use PyTorch to calculate gradient\n",
    "x = torch.tensor(x0, requires_grad=True)\n",
    "y = objective(x)\n",
    "y.backward()\n",
    "grad = x.grad.numpy()\n",
    "\n",
    "# Use SciPy to minimize objective function with gradient\n",
    "res = minimize(objective, x0, method='L-BFGS-B', jac=grad, bounds=bounds)\n",
    "print(res)\n",
    "\n",
    "# Use SciPy least_squares to minimize objective function with gradient\n",
    "res_lsq = least_squares(objective, x0, jac=grad)\n",
    "print(res_lsq)"
   ]
  }
 ],
 "metadata": {
  "kernelspec": {
   "display_name": "Python 3",
   "language": "python",
   "name": "python3"
  },
  "language_info": {
   "codemirror_mode": {
    "name": "ipython",
    "version": 3
   },
   "file_extension": ".py",
   "mimetype": "text/x-python",
   "name": "python",
   "nbconvert_exporter": "python",
   "pygments_lexer": "ipython3",
   "version": "3.9.0"
  },
  "orig_nbformat": 4
 },
 "nbformat": 4,
 "nbformat_minor": 2
}
